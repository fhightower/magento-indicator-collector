{
 "cells": [
  {
   "cell_type": "code",
   "execution_count": 1,
   "metadata": {
    "collapsed": true
   },
   "outputs": [],
   "source": [
    "import requests"
   ]
  },
  {
   "cell_type": "code",
   "execution_count": 2,
   "metadata": {
    "collapsed": false
   },
   "outputs": [],
   "source": [
    "domains = list()\n",
    "\n",
    "with open(\"compromised_domains.txt\", \"r\") as f:\n",
    "    for domain in f.readlines():\n",
    "        domains.append(domain.strip())\n",
    "    f.close()"
   ]
  },
  {
   "cell_type": "code",
   "execution_count": 3,
   "metadata": {
    "collapsed": false
   },
   "outputs": [
    {
     "data": {
      "text/plain": [
       "5023"
      ]
     },
     "execution_count": 3,
     "metadata": {},
     "output_type": "execute_result"
    }
   ],
   "source": [
    "len(domains)"
   ]
  },
  {
   "cell_type": "code",
   "execution_count": 4,
   "metadata": {
    "collapsed": false
   },
   "outputs": [
    {
     "name": "stdout",
     "output_type": "stream",
     "text": [
      "Successfully gathered data from 1 domains.\n",
      "Recieved errors on 0.\n"
     ]
    }
   ],
   "source": [
    "domains = [\"hapticallyspeaking.com\"]\n",
    "\n",
    "counters = {\n",
    "    'successes': 0,\n",
    "    'errors': 0\n",
    "}\n",
    "\n",
    "error_domains = []\n",
    "\n",
    "headers = dict()\n",
    "headers['User-Agent'] = \"Mozilla/5.0 (Windows NT 10.0; WOW64) AppleWebKit/537.36 (KHTML, like Gecko) Chrome/53.0.2785.116 Safari/537.36\"\n",
    "\n",
    "for domain in domains:\n",
    "    url = \"http://{}\".format(domain)\n",
    "    try:\n",
    "        r = requests.get(url, headers=headers)\n",
    "        if r.status_code == 200:\n",
    "            with open(\"html/{}.html\".format(domain), \"w\") as output:\n",
    "                output.write(r.text)\n",
    "                output.close()\n",
    "            counters['successes'] += 1\n",
    "        else:\n",
    "            print(\"Status for {} is {}\".format(domain, r.status_code))\n",
    "            counters['errors'] += 1\n",
    "            error_domains.append(domain)\n",
    "            continue\n",
    "        if counters['successes'] % 100 == 0:\n",
    "            print(\"{} successes so far. ({} errors)\".format(counters['successes'], counters['errors']))\n",
    "    except:\n",
    "        counters['errors'] += 1\n",
    "        error_domains.append(domain)\n",
    "        continue\n",
    "        \n",
    "print(\"Successfully gathered data from {} domains.\".format(counters['successes']))\n",
    "print(\"Recieved errors on {}.\".format(counters['errors']))"
   ]
  },
  {
   "cell_type": "code",
   "execution_count": null,
   "metadata": {
    "collapsed": true
   },
   "outputs": [],
   "source": []
  }
 ],
 "metadata": {
  "kernelspec": {
   "display_name": "Python 3",
   "language": "python",
   "name": "python3"
  },
  "language_info": {
   "codemirror_mode": {
    "name": "ipython",
    "version": 3
   },
   "file_extension": ".py",
   "mimetype": "text/x-python",
   "name": "python",
   "nbconvert_exporter": "python",
   "pygments_lexer": "ipython3",
   "version": "3.4.3"
  }
 },
 "nbformat": 4,
 "nbformat_minor": 0
}
